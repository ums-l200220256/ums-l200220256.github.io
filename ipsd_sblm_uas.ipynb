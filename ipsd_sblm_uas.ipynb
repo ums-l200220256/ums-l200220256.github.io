{
  "nbformat": 4,
  "nbformat_minor": 0,
  "metadata": {
    "colab": {
      "provenance": []
    },
    "kernelspec": {
      "name": "python3",
      "display_name": "Python 3"
    },
    "language_info": {
      "name": "python"
    }
  },
  "cells": [
    {
      "cell_type": "code",
      "execution_count": 2,
      "metadata": {
        "colab": {
          "base_uri": "https://localhost:8080/"
        },
        "id": "VBnNdwgUzi1c",
        "outputId": "cf4324b6-f559-4a08-e91b-e646923688ac"
      },
      "outputs": [
        {
          "output_type": "stream",
          "name": "stdout",
          "text": [
            "Mounted at /content/drive\n"
          ]
        }
      ],
      "source": [
        "from google.colab import drive\n",
        "drive.mount('/content/drive')"
      ]
    },
    {
      "cell_type": "code",
      "source": [
        "x = '/content/drive/My Drive/ipsd/data_group.txt'"
      ],
      "metadata": {
        "id": "WexdkohrQ-FK"
      },
      "execution_count": 4,
      "outputs": []
    },
    {
      "cell_type": "code",
      "source": [
        "import re\n",
        "from collections import defaultdict"
      ],
      "metadata": {
        "id": "LHGVUwY3RVTb"
      },
      "execution_count": 7,
      "outputs": []
    },
    {
      "cell_type": "code",
      "source": [
        "with open(x, 'r', encoding='utf-8') as file:\n",
        "    lines = file.readlines()"
      ],
      "metadata": {
        "id": "odAT8v2gzmah"
      },
      "execution_count": 8,
      "outputs": []
    },
    {
      "cell_type": "code",
      "source": [
        "# Proses komentar berdasarkan grup\n",
        "group_data = defaultdict(list)\n",
        "current_group = None"
      ],
      "metadata": {
        "id": "XbhNs1TrRhyS"
      },
      "execution_count": 9,
      "outputs": []
    },
    {
      "cell_type": "code",
      "source": [
        "for line in lines:\n",
        "    if \"MENTORING FKI\" in line:\n",
        "        current_group = \"MENTORING FKI\"\n",
        "    elif \"GROUP NAME XYZ\" in line:  # Tambahkan nama grup lainnya\n",
        "        current_group = \"GROUP NAME XYZ\"\n",
        "\n",
        "    if current_group:\n",
        "        group_data[current_group].append(line)"
      ],
      "metadata": {
        "id": "uu2X7KuTRtnR"
      },
      "execution_count": 10,
      "outputs": []
    },
    {
      "cell_type": "code",
      "source": [
        "# Pilih grup dengan jumlah komentar terbanyak\n",
        "selected_group = max(group_data, key=lambda k: len(group_data[k]))"
      ],
      "metadata": {
        "id": "f8zh7nlNRt_L"
      },
      "execution_count": 11,
      "outputs": []
    },
    {
      "cell_type": "code",
      "source": [
        "# Simpan data ke file teks\n",
        "with open('data_group.txt', 'w', encoding='utf-8') as file:\n",
        "    file.writelines(group_data[selected_group])"
      ],
      "metadata": {
        "id": "UHCbeSJTRwEZ"
      },
      "execution_count": 12,
      "outputs": []
    },
    {
      "cell_type": "code",
      "source": [
        "import tarfile\n",
        "\n",
        "with tarfile.open(\"data_group.tar\", \"w\") as tar:\n",
        "    tar.add(\"data_group.csv\")\n"
      ],
      "metadata": {
        "id": "YgB1yOmBRyfZ"
      },
      "execution_count": 14,
      "outputs": []
    },
    {
      "cell_type": "code",
      "source": [
        "cleaned_lines = []\n",
        "for line in lines:\n",
        "    cleaned_line = re.sub(r'[^a-zA-Z0-9\\s.,!?]', '', line)\n",
        "    cleaned_lines.append(cleaned_line)\n",
        "\n",
        "# Simpan versi bersih\n",
        "with open('data_group_cleaned.txt', 'w', encoding='utf-8') as file:\n",
        "    file.writelines(cleaned_lines)"
      ],
      "metadata": {
        "id": "l_wjvHMfR4hh"
      },
      "execution_count": 15,
      "outputs": []
    },
    {
      "cell_type": "code",
      "source": [
        "from sklearn.feature_extraction.text import TfidfVectorizer\n",
        "from sklearn.cluster import KMeans\n",
        "from sklearn.metrics import silhouette_score\n",
        "\n",
        "# Membaca data\n",
        "with open('data_group_cleaned.txt', 'r', encoding='utf-8') as file:\n",
        "    data = file.readlines()\n",
        "\n",
        "# TF-IDF\n",
        "vectorizer = TfidfVectorizer(stop_words='english')\n",
        "X = vectorizer.fit_transform(data)\n",
        "\n",
        "# KMeans Clustering\n",
        "for n_clusters in [3, 4, 5]:\n",
        "    kmeans = KMeans(n_clusters=n_clusters, random_state=42)\n",
        "    labels = kmeans.fit_predict(X)\n",
        "\n",
        "    print(f\"Cluster {n_clusters}\")\n",
        "    terms = vectorizer.get_feature_names_out()\n",
        "    for i in range(n_clusters):\n",
        "        top_terms = [terms[ind] for ind in kmeans.cluster_centers_.argsort()[0][-3:]]\n",
        "        print(f\"Cluster {i}: {', '.join(top_terms)}\")\n"
      ],
      "metadata": {
        "colab": {
          "base_uri": "https://localhost:8080/"
        },
        "id": "IeTMizvASkHH",
        "outputId": "25490938-b6c6-426f-bcee-3e5d0b84906c"
      },
      "execution_count": 16,
      "outputs": [
        {
          "output_type": "stream",
          "name": "stdout",
          "text": [
            "Cluster 3\n",
            "Cluster 0: pengecapan, stampel, panitia\n",
            "Cluster 1: pengecapan, stampel, panitia\n",
            "Cluster 2: pengecapan, stampel, panitia\n",
            "Cluster 4\n",
            "Cluster 0: oleh, panitia, pengecapan\n",
            "Cluster 1: oleh, panitia, pengecapan\n",
            "Cluster 2: oleh, panitia, pengecapan\n",
            "Cluster 3: oleh, panitia, pengecapan\n",
            "Cluster 5\n",
            "Cluster 0: oleh, panitia, pengecapan\n",
            "Cluster 1: oleh, panitia, pengecapan\n",
            "Cluster 2: oleh, panitia, pengecapan\n",
            "Cluster 3: oleh, panitia, pengecapan\n",
            "Cluster 4: oleh, panitia, pengecapan\n"
          ]
        }
      ]
    },
    {
      "cell_type": "code",
      "source": [
        "html_content = f\"\"\"\n",
        "<!DOCTYPE html>\n",
        "<html lang=\"en\">\n",
        "<head>\n",
        "    <meta charset=\"UTF-8\">\n",
        "    <meta name=\"viewport\" content=\"width=device-width, initial-scale=1.0\">\n",
        "    <title>Laporan Clustering</title>\n",
        "    <style>\n",
        "        body {{ font-family: Arial, sans-serif; margin: 20px; }}\n",
        "        h1 {{ color: #2c3e50; }}\n",
        "        .cluster {{ margin-bottom: 20px; }}\n",
        "    </style>\n",
        "</head>\n",
        "<body>\n",
        "    <h1>Laporan Hasil Clustering</h1>\n",
        "    <p>Data diproses dan dianalisis dengan metode TF-IDF dan algoritma KMeans untuk membuat 3, 4, dan 5 klaster.</p>\n",
        "    <h2>Analisis</h2>\n",
        "    <div>\n",
        "        <h3>Hasil Clustering (3 Klaster)</h3>\n",
        "        <p>... Analisis dan kata teratas ...</p>\n",
        "        <h3>Hasil Clustering (4 Klaster)</h3>\n",
        "        <p>... Analisis dan kata teratas ...</p>\n",
        "        <h3>Hasil Clustering (5 Klaster)</h3>\n",
        "        <p>... Analisis dan kata teratas ...</p>\n",
        "    </div>\n",
        "</body>\n",
        "</html>\n",
        "\"\"\"\n",
        "\n",
        "report_file = \"laporan.html\"\n",
        "with open(report_file, 'w', encoding='utf-8') as file:\n",
        "    file.write(html_content)\n",
        "\n",
        "print(f\"Laporan HTML tersimpan di: {report_file}\")\n"
      ],
      "metadata": {
        "colab": {
          "base_uri": "https://localhost:8080/"
        },
        "id": "1rk3xHfnSnKI",
        "outputId": "6404842e-31d9-4611-e833-3e21e84a86e7"
      },
      "execution_count": 17,
      "outputs": [
        {
          "output_type": "stream",
          "name": "stdout",
          "text": [
            "Laporan HTML tersimpan di: laporan.html\n"
          ]
        }
      ]
    },
    {
      "cell_type": "code",
      "source": [],
      "metadata": {
        "id": "SMGEoA1OSwE9"
      },
      "execution_count": null,
      "outputs": []
    }
  ]
}